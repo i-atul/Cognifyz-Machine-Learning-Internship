{
 "cells": [
  {
   "cell_type": "code",
   "execution_count": 1,
   "id": "39cf7765",
   "metadata": {
    "execution": {
     "iopub.execute_input": "2025-04-11T13:59:05.654545Z",
     "iopub.status.busy": "2025-04-11T13:59:05.654100Z",
     "iopub.status.idle": "2025-04-11T13:59:07.100754Z",
     "shell.execute_reply": "2025-04-11T13:59:07.099704Z"
    },
    "papermill": {
     "duration": 1.454621,
     "end_time": "2025-04-11T13:59:07.102547",
     "exception": false,
     "start_time": "2025-04-11T13:59:05.647926",
     "status": "completed"
    },
    "tags": []
   },
   "outputs": [
    {
     "name": "stdout",
     "output_type": "stream",
     "text": [
      "Cloning into 'Cognifyz-Machine-Learning-Internship'...\r\n",
      "remote: Enumerating objects: 11, done.\u001b[K\r\n",
      "remote: Counting objects: 100% (11/11), done.\u001b[K\r\n",
      "remote: Compressing objects: 100% (10/10), done.\u001b[K\r\n",
      "remote: Total 11 (delta 2), reused 2 (delta 0), pack-reused 0 (from 0)\u001b[K\r\n",
      "Receiving objects: 100% (11/11), 437.36 KiB | 2.27 MiB/s, done.\r\n",
      "Resolving deltas: 100% (2/2), done.\r\n"
     ]
    }
   ],
   "source": [
    "!git clone https://github.com/i-atul/Cognifyz-Machine-Learning-Internship.git\n"
   ]
  },
  {
   "cell_type": "markdown",
   "id": "63ef0749",
   "metadata": {
    "papermill": {
     "duration": 0.00409,
     "end_time": "2025-04-11T13:59:07.111288",
     "exception": false,
     "start_time": "2025-04-11T13:59:07.107198",
     "status": "completed"
    },
    "tags": []
   },
   "source": [
    "# **Task 1: Predict Restaurant Ratings**\n",
    "\n",
    "**Objective:**\n",
    "Build a machine learning model to predict the\n",
    "aggregate rating of a restaurant based on other features.\n",
    "\n",
    "**Steps:**\n",
    "\n",
    "* Preprocess the dataset by handling missing values,encoding categorical variables, and splitting the datainto training and testing sets.\n",
    "  \n",
    "* Select a regression algorithm (e.g., linear regression,decision tree regression) and train it on the training data.\n",
    "\n",
    "* Evaluate the model's performance using appropriateregression metrics (e.g., mean squared error, R-squared)on the testing data.\n"
   ]
  },
  {
   "cell_type": "code",
   "execution_count": 2,
   "id": "c7fbf339",
   "metadata": {
    "execution": {
     "iopub.execute_input": "2025-04-11T13:59:07.121060Z",
     "iopub.status.busy": "2025-04-11T13:59:07.120709Z",
     "iopub.status.idle": "2025-04-11T13:59:11.068848Z",
     "shell.execute_reply": "2025-04-11T13:59:11.067921Z"
    },
    "papermill": {
     "duration": 3.955228,
     "end_time": "2025-04-11T13:59:11.070642",
     "exception": false,
     "start_time": "2025-04-11T13:59:07.115414",
     "status": "completed"
    },
    "tags": []
   },
   "outputs": [],
   "source": [
    "import numpy as np\n",
    "import pandas as pd\n",
    "import matplotlib.pyplot as plt\n",
    "import seaborn as sns\n",
    "from sklearn.preprocessing import LabelEncoder\n",
    "from sklearn.linear_model import LinearRegression\n",
    "from sklearn.tree import DecisionTreeRegressor\n",
    "from sklearn.model_selection import train_test_split\n",
    "from sklearn.metrics import accuracy_score, mean_absolute_error, mean_squared_error, r2_score "
   ]
  },
  {
   "cell_type": "code",
   "execution_count": 3,
   "id": "77e762c5",
   "metadata": {
    "execution": {
     "iopub.execute_input": "2025-04-11T13:59:11.081151Z",
     "iopub.status.busy": "2025-04-11T13:59:11.080620Z",
     "iopub.status.idle": "2025-04-11T13:59:11.154625Z",
     "shell.execute_reply": "2025-04-11T13:59:11.153739Z"
    },
    "papermill": {
     "duration": 0.081014,
     "end_time": "2025-04-11T13:59:11.156257",
     "exception": false,
     "start_time": "2025-04-11T13:59:11.075243",
     "status": "completed"
    },
    "tags": []
   },
   "outputs": [],
   "source": [
    "df = pd.read_csv(\"/kaggle/working/Cognifyz-Machine-Learning-Internship/Dataset .csv\")"
   ]
  },
  {
   "cell_type": "code",
   "execution_count": 4,
   "id": "479b3139",
   "metadata": {
    "execution": {
     "iopub.execute_input": "2025-04-11T13:59:11.166264Z",
     "iopub.status.busy": "2025-04-11T13:59:11.165917Z",
     "iopub.status.idle": "2025-04-11T13:59:11.202005Z",
     "shell.execute_reply": "2025-04-11T13:59:11.201183Z"
    },
    "papermill": {
     "duration": 0.042856,
     "end_time": "2025-04-11T13:59:11.203523",
     "exception": false,
     "start_time": "2025-04-11T13:59:11.160667",
     "status": "completed"
    },
    "tags": []
   },
   "outputs": [
    {
     "data": {
      "text/html": [
       "<div>\n",
       "<style scoped>\n",
       "    .dataframe tbody tr th:only-of-type {\n",
       "        vertical-align: middle;\n",
       "    }\n",
       "\n",
       "    .dataframe tbody tr th {\n",
       "        vertical-align: top;\n",
       "    }\n",
       "\n",
       "    .dataframe thead th {\n",
       "        text-align: right;\n",
       "    }\n",
       "</style>\n",
       "<table border=\"1\" class=\"dataframe\">\n",
       "  <thead>\n",
       "    <tr style=\"text-align: right;\">\n",
       "      <th></th>\n",
       "      <th>Restaurant ID</th>\n",
       "      <th>Restaurant Name</th>\n",
       "      <th>Country Code</th>\n",
       "      <th>City</th>\n",
       "      <th>Address</th>\n",
       "      <th>Locality</th>\n",
       "      <th>Locality Verbose</th>\n",
       "      <th>Longitude</th>\n",
       "      <th>Latitude</th>\n",
       "      <th>Cuisines</th>\n",
       "      <th>...</th>\n",
       "      <th>Currency</th>\n",
       "      <th>Has Table booking</th>\n",
       "      <th>Has Online delivery</th>\n",
       "      <th>Is delivering now</th>\n",
       "      <th>Switch to order menu</th>\n",
       "      <th>Price range</th>\n",
       "      <th>Aggregate rating</th>\n",
       "      <th>Rating color</th>\n",
       "      <th>Rating text</th>\n",
       "      <th>Votes</th>\n",
       "    </tr>\n",
       "  </thead>\n",
       "  <tbody>\n",
       "    <tr>\n",
       "      <th>0</th>\n",
       "      <td>6317637</td>\n",
       "      <td>Le Petit Souffle</td>\n",
       "      <td>162</td>\n",
       "      <td>Makati City</td>\n",
       "      <td>Third Floor, Century City Mall, Kalayaan Avenu...</td>\n",
       "      <td>Century City Mall, Poblacion, Makati City</td>\n",
       "      <td>Century City Mall, Poblacion, Makati City, Mak...</td>\n",
       "      <td>121.027535</td>\n",
       "      <td>14.565443</td>\n",
       "      <td>French, Japanese, Desserts</td>\n",
       "      <td>...</td>\n",
       "      <td>Botswana Pula(P)</td>\n",
       "      <td>Yes</td>\n",
       "      <td>No</td>\n",
       "      <td>No</td>\n",
       "      <td>No</td>\n",
       "      <td>3</td>\n",
       "      <td>4.8</td>\n",
       "      <td>Dark Green</td>\n",
       "      <td>Excellent</td>\n",
       "      <td>314</td>\n",
       "    </tr>\n",
       "    <tr>\n",
       "      <th>1</th>\n",
       "      <td>6304287</td>\n",
       "      <td>Izakaya Kikufuji</td>\n",
       "      <td>162</td>\n",
       "      <td>Makati City</td>\n",
       "      <td>Little Tokyo, 2277 Chino Roces Avenue, Legaspi...</td>\n",
       "      <td>Little Tokyo, Legaspi Village, Makati City</td>\n",
       "      <td>Little Tokyo, Legaspi Village, Makati City, Ma...</td>\n",
       "      <td>121.014101</td>\n",
       "      <td>14.553708</td>\n",
       "      <td>Japanese</td>\n",
       "      <td>...</td>\n",
       "      <td>Botswana Pula(P)</td>\n",
       "      <td>Yes</td>\n",
       "      <td>No</td>\n",
       "      <td>No</td>\n",
       "      <td>No</td>\n",
       "      <td>3</td>\n",
       "      <td>4.5</td>\n",
       "      <td>Dark Green</td>\n",
       "      <td>Excellent</td>\n",
       "      <td>591</td>\n",
       "    </tr>\n",
       "    <tr>\n",
       "      <th>2</th>\n",
       "      <td>6300002</td>\n",
       "      <td>Heat - Edsa Shangri-La</td>\n",
       "      <td>162</td>\n",
       "      <td>Mandaluyong City</td>\n",
       "      <td>Edsa Shangri-La, 1 Garden Way, Ortigas, Mandal...</td>\n",
       "      <td>Edsa Shangri-La, Ortigas, Mandaluyong City</td>\n",
       "      <td>Edsa Shangri-La, Ortigas, Mandaluyong City, Ma...</td>\n",
       "      <td>121.056831</td>\n",
       "      <td>14.581404</td>\n",
       "      <td>Seafood, Asian, Filipino, Indian</td>\n",
       "      <td>...</td>\n",
       "      <td>Botswana Pula(P)</td>\n",
       "      <td>Yes</td>\n",
       "      <td>No</td>\n",
       "      <td>No</td>\n",
       "      <td>No</td>\n",
       "      <td>4</td>\n",
       "      <td>4.4</td>\n",
       "      <td>Green</td>\n",
       "      <td>Very Good</td>\n",
       "      <td>270</td>\n",
       "    </tr>\n",
       "    <tr>\n",
       "      <th>3</th>\n",
       "      <td>6318506</td>\n",
       "      <td>Ooma</td>\n",
       "      <td>162</td>\n",
       "      <td>Mandaluyong City</td>\n",
       "      <td>Third Floor, Mega Fashion Hall, SM Megamall, O...</td>\n",
       "      <td>SM Megamall, Ortigas, Mandaluyong City</td>\n",
       "      <td>SM Megamall, Ortigas, Mandaluyong City, Mandal...</td>\n",
       "      <td>121.056475</td>\n",
       "      <td>14.585318</td>\n",
       "      <td>Japanese, Sushi</td>\n",
       "      <td>...</td>\n",
       "      <td>Botswana Pula(P)</td>\n",
       "      <td>No</td>\n",
       "      <td>No</td>\n",
       "      <td>No</td>\n",
       "      <td>No</td>\n",
       "      <td>4</td>\n",
       "      <td>4.9</td>\n",
       "      <td>Dark Green</td>\n",
       "      <td>Excellent</td>\n",
       "      <td>365</td>\n",
       "    </tr>\n",
       "    <tr>\n",
       "      <th>4</th>\n",
       "      <td>6314302</td>\n",
       "      <td>Sambo Kojin</td>\n",
       "      <td>162</td>\n",
       "      <td>Mandaluyong City</td>\n",
       "      <td>Third Floor, Mega Atrium, SM Megamall, Ortigas...</td>\n",
       "      <td>SM Megamall, Ortigas, Mandaluyong City</td>\n",
       "      <td>SM Megamall, Ortigas, Mandaluyong City, Mandal...</td>\n",
       "      <td>121.057508</td>\n",
       "      <td>14.584450</td>\n",
       "      <td>Japanese, Korean</td>\n",
       "      <td>...</td>\n",
       "      <td>Botswana Pula(P)</td>\n",
       "      <td>Yes</td>\n",
       "      <td>No</td>\n",
       "      <td>No</td>\n",
       "      <td>No</td>\n",
       "      <td>4</td>\n",
       "      <td>4.8</td>\n",
       "      <td>Dark Green</td>\n",
       "      <td>Excellent</td>\n",
       "      <td>229</td>\n",
       "    </tr>\n",
       "  </tbody>\n",
       "</table>\n",
       "<p>5 rows × 21 columns</p>\n",
       "</div>"
      ],
      "text/plain": [
       "   Restaurant ID         Restaurant Name  Country Code              City  \\\n",
       "0        6317637        Le Petit Souffle           162       Makati City   \n",
       "1        6304287        Izakaya Kikufuji           162       Makati City   \n",
       "2        6300002  Heat - Edsa Shangri-La           162  Mandaluyong City   \n",
       "3        6318506                    Ooma           162  Mandaluyong City   \n",
       "4        6314302             Sambo Kojin           162  Mandaluyong City   \n",
       "\n",
       "                                             Address  \\\n",
       "0  Third Floor, Century City Mall, Kalayaan Avenu...   \n",
       "1  Little Tokyo, 2277 Chino Roces Avenue, Legaspi...   \n",
       "2  Edsa Shangri-La, 1 Garden Way, Ortigas, Mandal...   \n",
       "3  Third Floor, Mega Fashion Hall, SM Megamall, O...   \n",
       "4  Third Floor, Mega Atrium, SM Megamall, Ortigas...   \n",
       "\n",
       "                                     Locality  \\\n",
       "0   Century City Mall, Poblacion, Makati City   \n",
       "1  Little Tokyo, Legaspi Village, Makati City   \n",
       "2  Edsa Shangri-La, Ortigas, Mandaluyong City   \n",
       "3      SM Megamall, Ortigas, Mandaluyong City   \n",
       "4      SM Megamall, Ortigas, Mandaluyong City   \n",
       "\n",
       "                                    Locality Verbose   Longitude   Latitude  \\\n",
       "0  Century City Mall, Poblacion, Makati City, Mak...  121.027535  14.565443   \n",
       "1  Little Tokyo, Legaspi Village, Makati City, Ma...  121.014101  14.553708   \n",
       "2  Edsa Shangri-La, Ortigas, Mandaluyong City, Ma...  121.056831  14.581404   \n",
       "3  SM Megamall, Ortigas, Mandaluyong City, Mandal...  121.056475  14.585318   \n",
       "4  SM Megamall, Ortigas, Mandaluyong City, Mandal...  121.057508  14.584450   \n",
       "\n",
       "                           Cuisines  ...          Currency Has Table booking  \\\n",
       "0        French, Japanese, Desserts  ...  Botswana Pula(P)               Yes   \n",
       "1                          Japanese  ...  Botswana Pula(P)               Yes   \n",
       "2  Seafood, Asian, Filipino, Indian  ...  Botswana Pula(P)               Yes   \n",
       "3                   Japanese, Sushi  ...  Botswana Pula(P)                No   \n",
       "4                  Japanese, Korean  ...  Botswana Pula(P)               Yes   \n",
       "\n",
       "  Has Online delivery Is delivering now Switch to order menu Price range  \\\n",
       "0                  No                No                   No           3   \n",
       "1                  No                No                   No           3   \n",
       "2                  No                No                   No           4   \n",
       "3                  No                No                   No           4   \n",
       "4                  No                No                   No           4   \n",
       "\n",
       "   Aggregate rating  Rating color Rating text Votes  \n",
       "0               4.8    Dark Green   Excellent   314  \n",
       "1               4.5    Dark Green   Excellent   591  \n",
       "2               4.4         Green   Very Good   270  \n",
       "3               4.9    Dark Green   Excellent   365  \n",
       "4               4.8    Dark Green   Excellent   229  \n",
       "\n",
       "[5 rows x 21 columns]"
      ]
     },
     "execution_count": 4,
     "metadata": {},
     "output_type": "execute_result"
    }
   ],
   "source": [
    "df.head()"
   ]
  },
  {
   "cell_type": "code",
   "execution_count": 5,
   "id": "262b7b0a",
   "metadata": {
    "execution": {
     "iopub.execute_input": "2025-04-11T13:59:11.213930Z",
     "iopub.status.busy": "2025-04-11T13:59:11.213624Z",
     "iopub.status.idle": "2025-04-11T13:59:11.219165Z",
     "shell.execute_reply": "2025-04-11T13:59:11.218357Z"
    },
    "papermill": {
     "duration": 0.012374,
     "end_time": "2025-04-11T13:59:11.220635",
     "exception": false,
     "start_time": "2025-04-11T13:59:11.208261",
     "status": "completed"
    },
    "tags": []
   },
   "outputs": [
    {
     "data": {
      "text/plain": [
       "(9551, 21)"
      ]
     },
     "execution_count": 5,
     "metadata": {},
     "output_type": "execute_result"
    }
   ],
   "source": [
    "df.shape"
   ]
  },
  {
   "cell_type": "code",
   "execution_count": 6,
   "id": "05b25cc1",
   "metadata": {
    "execution": {
     "iopub.execute_input": "2025-04-11T13:59:11.231559Z",
     "iopub.status.busy": "2025-04-11T13:59:11.230991Z",
     "iopub.status.idle": "2025-04-11T13:59:11.236238Z",
     "shell.execute_reply": "2025-04-11T13:59:11.235311Z"
    },
    "papermill": {
     "duration": 0.01214,
     "end_time": "2025-04-11T13:59:11.237645",
     "exception": false,
     "start_time": "2025-04-11T13:59:11.225505",
     "status": "completed"
    },
    "tags": []
   },
   "outputs": [],
   "source": [
    "def dataset_info(df, name):\n",
    "    print(f\"\\n {name} Dataset:\")\n",
    "    print(df.columns)\n",
    "    print(df.info())\n",
    "    print(df.describe())\n",
    "    print(\"Missing values:\", df.isnull().sum())\n",
    "    print(\"Duplicates:\", df.duplicated().sum())"
   ]
  },
  {
   "cell_type": "code",
   "execution_count": 7,
   "id": "451a1672",
   "metadata": {
    "execution": {
     "iopub.execute_input": "2025-04-11T13:59:11.248760Z",
     "iopub.status.busy": "2025-04-11T13:59:11.247988Z",
     "iopub.status.idle": "2025-04-11T13:59:11.315852Z",
     "shell.execute_reply": "2025-04-11T13:59:11.314852Z"
    },
    "papermill": {
     "duration": 0.075167,
     "end_time": "2025-04-11T13:59:11.317553",
     "exception": false,
     "start_time": "2025-04-11T13:59:11.242386",
     "status": "completed"
    },
    "tags": []
   },
   "outputs": [
    {
     "name": "stdout",
     "output_type": "stream",
     "text": [
      "\n",
      " Restaurant Dataset:\n",
      "Index(['Restaurant ID', 'Restaurant Name', 'Country Code', 'City', 'Address',\n",
      "       'Locality', 'Locality Verbose', 'Longitude', 'Latitude', 'Cuisines',\n",
      "       'Average Cost for two', 'Currency', 'Has Table booking',\n",
      "       'Has Online delivery', 'Is delivering now', 'Switch to order menu',\n",
      "       'Price range', 'Aggregate rating', 'Rating color', 'Rating text',\n",
      "       'Votes'],\n",
      "      dtype='object')\n",
      "<class 'pandas.core.frame.DataFrame'>\n",
      "RangeIndex: 9551 entries, 0 to 9550\n",
      "Data columns (total 21 columns):\n",
      " #   Column                Non-Null Count  Dtype  \n",
      "---  ------                --------------  -----  \n",
      " 0   Restaurant ID         9551 non-null   int64  \n",
      " 1   Restaurant Name       9551 non-null   object \n",
      " 2   Country Code          9551 non-null   int64  \n",
      " 3   City                  9551 non-null   object \n",
      " 4   Address               9551 non-null   object \n",
      " 5   Locality              9551 non-null   object \n",
      " 6   Locality Verbose      9551 non-null   object \n",
      " 7   Longitude             9551 non-null   float64\n",
      " 8   Latitude              9551 non-null   float64\n",
      " 9   Cuisines              9542 non-null   object \n",
      " 10  Average Cost for two  9551 non-null   int64  \n",
      " 11  Currency              9551 non-null   object \n",
      " 12  Has Table booking     9551 non-null   object \n",
      " 13  Has Online delivery   9551 non-null   object \n",
      " 14  Is delivering now     9551 non-null   object \n",
      " 15  Switch to order menu  9551 non-null   object \n",
      " 16  Price range           9551 non-null   int64  \n",
      " 17  Aggregate rating      9551 non-null   float64\n",
      " 18  Rating color          9551 non-null   object \n",
      " 19  Rating text           9551 non-null   object \n",
      " 20  Votes                 9551 non-null   int64  \n",
      "dtypes: float64(3), int64(5), object(13)\n",
      "memory usage: 1.5+ MB\n",
      "None\n",
      "       Restaurant ID  Country Code    Longitude     Latitude  \\\n",
      "count   9.551000e+03   9551.000000  9551.000000  9551.000000   \n",
      "mean    9.051128e+06     18.365616    64.126574    25.854381   \n",
      "std     8.791521e+06     56.750546    41.467058    11.007935   \n",
      "min     5.300000e+01      1.000000  -157.948486   -41.330428   \n",
      "25%     3.019625e+05      1.000000    77.081343    28.478713   \n",
      "50%     6.004089e+06      1.000000    77.191964    28.570469   \n",
      "75%     1.835229e+07      1.000000    77.282006    28.642758   \n",
      "max     1.850065e+07    216.000000   174.832089    55.976980   \n",
      "\n",
      "       Average Cost for two  Price range  Aggregate rating         Votes  \n",
      "count           9551.000000  9551.000000       9551.000000   9551.000000  \n",
      "mean            1199.210763     1.804837          2.666370    156.909748  \n",
      "std            16121.183073     0.905609          1.516378    430.169145  \n",
      "min                0.000000     1.000000          0.000000      0.000000  \n",
      "25%              250.000000     1.000000          2.500000      5.000000  \n",
      "50%              400.000000     2.000000          3.200000     31.000000  \n",
      "75%              700.000000     2.000000          3.700000    131.000000  \n",
      "max           800000.000000     4.000000          4.900000  10934.000000  \n",
      "Missing values: Restaurant ID           0\n",
      "Restaurant Name         0\n",
      "Country Code            0\n",
      "City                    0\n",
      "Address                 0\n",
      "Locality                0\n",
      "Locality Verbose        0\n",
      "Longitude               0\n",
      "Latitude                0\n",
      "Cuisines                9\n",
      "Average Cost for two    0\n",
      "Currency                0\n",
      "Has Table booking       0\n",
      "Has Online delivery     0\n",
      "Is delivering now       0\n",
      "Switch to order menu    0\n",
      "Price range             0\n",
      "Aggregate rating        0\n",
      "Rating color            0\n",
      "Rating text             0\n",
      "Votes                   0\n",
      "dtype: int64\n",
      "Duplicates: 0\n"
     ]
    }
   ],
   "source": [
    "dataset_info(df, \"Restaurant\")"
   ]
  },
  {
   "cell_type": "code",
   "execution_count": 8,
   "id": "928799ec",
   "metadata": {
    "execution": {
     "iopub.execute_input": "2025-04-11T13:59:11.329058Z",
     "iopub.status.busy": "2025-04-11T13:59:11.328320Z",
     "iopub.status.idle": "2025-04-11T13:59:11.341556Z",
     "shell.execute_reply": "2025-04-11T13:59:11.340834Z"
    },
    "papermill": {
     "duration": 0.020368,
     "end_time": "2025-04-11T13:59:11.342913",
     "exception": false,
     "start_time": "2025-04-11T13:59:11.322545",
     "status": "completed"
    },
    "tags": []
   },
   "outputs": [],
   "source": [
    "# Remove all NULL Value\n",
    "df = df.dropna()"
   ]
  },
  {
   "cell_type": "code",
   "execution_count": 9,
   "id": "508e2b61",
   "metadata": {
    "execution": {
     "iopub.execute_input": "2025-04-11T13:59:11.354450Z",
     "iopub.status.busy": "2025-04-11T13:59:11.353628Z",
     "iopub.status.idle": "2025-04-11T13:59:11.367903Z",
     "shell.execute_reply": "2025-04-11T13:59:11.367023Z"
    },
    "papermill": {
     "duration": 0.021522,
     "end_time": "2025-04-11T13:59:11.369441",
     "exception": false,
     "start_time": "2025-04-11T13:59:11.347919",
     "status": "completed"
    },
    "tags": []
   },
   "outputs": [
    {
     "data": {
      "text/plain": [
       "Restaurant ID           0\n",
       "Restaurant Name         0\n",
       "Country Code            0\n",
       "City                    0\n",
       "Address                 0\n",
       "Locality                0\n",
       "Locality Verbose        0\n",
       "Longitude               0\n",
       "Latitude                0\n",
       "Cuisines                0\n",
       "Average Cost for two    0\n",
       "Currency                0\n",
       "Has Table booking       0\n",
       "Has Online delivery     0\n",
       "Is delivering now       0\n",
       "Switch to order menu    0\n",
       "Price range             0\n",
       "Aggregate rating        0\n",
       "Rating color            0\n",
       "Rating text             0\n",
       "Votes                   0\n",
       "dtype: int64"
      ]
     },
     "execution_count": 9,
     "metadata": {},
     "output_type": "execute_result"
    }
   ],
   "source": [
    "df.isnull().sum()"
   ]
  },
  {
   "cell_type": "code",
   "execution_count": 10,
   "id": "02eca95d",
   "metadata": {
    "execution": {
     "iopub.execute_input": "2025-04-11T13:59:11.380707Z",
     "iopub.status.busy": "2025-04-11T13:59:11.380401Z",
     "iopub.status.idle": "2025-04-11T13:59:11.389615Z",
     "shell.execute_reply": "2025-04-11T13:59:11.388843Z"
    },
    "papermill": {
     "duration": 0.016441,
     "end_time": "2025-04-11T13:59:11.391042",
     "exception": false,
     "start_time": "2025-04-11T13:59:11.374601",
     "status": "completed"
    },
    "tags": []
   },
   "outputs": [
    {
     "data": {
      "text/plain": [
       "count    9542.000000\n",
       "mean        2.665238\n",
       "std         1.516588\n",
       "min         0.000000\n",
       "25%         2.500000\n",
       "50%         3.200000\n",
       "75%         3.700000\n",
       "max         4.900000\n",
       "Name: Aggregate rating, dtype: float64"
      ]
     },
     "execution_count": 10,
     "metadata": {},
     "output_type": "execute_result"
    }
   ],
   "source": [
    "df[\"Aggregate rating\"].describe()"
   ]
  },
  {
   "cell_type": "code",
   "execution_count": 11,
   "id": "a36337e7",
   "metadata": {
    "execution": {
     "iopub.execute_input": "2025-04-11T13:59:11.402546Z",
     "iopub.status.busy": "2025-04-11T13:59:11.402241Z",
     "iopub.status.idle": "2025-04-11T13:59:11.411972Z",
     "shell.execute_reply": "2025-04-11T13:59:11.411050Z"
    },
    "papermill": {
     "duration": 0.017125,
     "end_time": "2025-04-11T13:59:11.413436",
     "exception": false,
     "start_time": "2025-04-11T13:59:11.396311",
     "status": "completed"
    },
    "tags": []
   },
   "outputs": [
    {
     "data": {
      "text/plain": [
       "Aggregate rating\n",
       "0.0    2148\n",
       "3.2     522\n",
       "3.1     519\n",
       "3.4     495\n",
       "3.3     483\n",
       "3.5     480\n",
       "3.0     468\n",
       "3.6     458\n",
       "3.7     427\n",
       "3.8     399\n",
       "2.9     381\n",
       "3.9     332\n",
       "2.8     315\n",
       "4.1     274\n",
       "4.0     266\n",
       "2.7     250\n",
       "4.2     221\n",
       "2.6     191\n",
       "4.3     174\n",
       "4.4     143\n",
       "2.5     110\n",
       "4.5      95\n",
       "2.4      87\n",
       "4.6      78\n",
       "4.9      61\n",
       "2.3      47\n",
       "4.7      41\n",
       "2.2      27\n",
       "4.8      25\n",
       "2.1      15\n",
       "2.0       7\n",
       "1.9       2\n",
       "1.8       1\n",
       "Name: count, dtype: int64"
      ]
     },
     "execution_count": 11,
     "metadata": {},
     "output_type": "execute_result"
    }
   ],
   "source": [
    "df['Aggregate rating'].value_counts()"
   ]
  },
  {
   "cell_type": "code",
   "execution_count": 12,
   "id": "ecdcf8d1",
   "metadata": {
    "execution": {
     "iopub.execute_input": "2025-04-11T13:59:11.425269Z",
     "iopub.status.busy": "2025-04-11T13:59:11.424915Z",
     "iopub.status.idle": "2025-04-11T13:59:11.431934Z",
     "shell.execute_reply": "2025-04-11T13:59:11.431141Z"
    },
    "papermill": {
     "duration": 0.014611,
     "end_time": "2025-04-11T13:59:11.433351",
     "exception": false,
     "start_time": "2025-04-11T13:59:11.418740",
     "status": "completed"
    },
    "tags": []
   },
   "outputs": [
    {
     "data": {
      "text/plain": [
       "Restaurant ID             int64\n",
       "Restaurant Name          object\n",
       "Country Code              int64\n",
       "City                     object\n",
       "Address                  object\n",
       "Locality                 object\n",
       "Locality Verbose         object\n",
       "Longitude               float64\n",
       "Latitude                float64\n",
       "Cuisines                 object\n",
       "Average Cost for two      int64\n",
       "Currency                 object\n",
       "Has Table booking        object\n",
       "Has Online delivery      object\n",
       "Is delivering now        object\n",
       "Switch to order menu     object\n",
       "Price range               int64\n",
       "Aggregate rating        float64\n",
       "Rating color             object\n",
       "Rating text              object\n",
       "Votes                     int64\n",
       "dtype: object"
      ]
     },
     "execution_count": 12,
     "metadata": {},
     "output_type": "execute_result"
    }
   ],
   "source": [
    "df.dtypes\n"
   ]
  },
  {
   "cell_type": "code",
   "execution_count": 13,
   "id": "c19c6edf",
   "metadata": {
    "execution": {
     "iopub.execute_input": "2025-04-11T13:59:11.445699Z",
     "iopub.status.busy": "2025-04-11T13:59:11.445372Z",
     "iopub.status.idle": "2025-04-11T13:59:11.507306Z",
     "shell.execute_reply": "2025-04-11T13:59:11.506078Z"
    },
    "papermill": {
     "duration": 0.070353,
     "end_time": "2025-04-11T13:59:11.508997",
     "exception": false,
     "start_time": "2025-04-11T13:59:11.438644",
     "status": "completed"
    },
    "tags": []
   },
   "outputs": [],
   "source": [
    "label_encoder = LabelEncoder()\n",
    "\n",
    "columns_to_encode = ['Restaurant Name', 'City', 'Address', 'Locality', 'Locality Verbose', 'Cuisines', 'Currency', 'Rating color', 'Rating text']\n",
    "\n",
    "# categorical columns encoding\n",
    "for column in columns_to_encode:\n",
    "    df[column] = label_encoder.fit_transform(df[column])\n",
    "\n",
    "# ing 'Yes' and 'No' to numerical values '1'and '0' (Binary)\n",
    "binary_columns = ['Has Table booking', 'Has Online delivery', 'Is delivering now', 'Switch to order menu']\n",
    "binary_mapping = {'No': 0, 'Yes': 1}\n",
    "\n",
    "for column in binary_columns:\n",
    "    df[column] = df[column].map(binary_mapping)\n"
   ]
  },
  {
   "cell_type": "code",
   "execution_count": 14,
   "id": "01586e1a",
   "metadata": {
    "execution": {
     "iopub.execute_input": "2025-04-11T13:59:11.520877Z",
     "iopub.status.busy": "2025-04-11T13:59:11.520575Z",
     "iopub.status.idle": "2025-04-11T13:59:11.532195Z",
     "shell.execute_reply": "2025-04-11T13:59:11.531157Z"
    },
    "papermill": {
     "duration": 0.01929,
     "end_time": "2025-04-11T13:59:11.533687",
     "exception": false,
     "start_time": "2025-04-11T13:59:11.514397",
     "status": "completed"
    },
    "tags": []
   },
   "outputs": [
    {
     "name": "stdout",
     "output_type": "stream",
     "text": [
      "   Restaurant ID  Restaurant Name  Country Code  City  Address  Locality  \\\n",
      "0        6317637             3742           162    73     8677       171   \n",
      "1        6304287             3167           162    73     6047       592   \n",
      "2        6300002             2892           162    75     4676       308   \n",
      "3        6318506             4700           162    75     8682       860   \n",
      "4        6314302             5515           162    75     8681       860   \n",
      "\n",
      "   Locality Verbose   Longitude   Latitude  Cuisines  ...  Currency  \\\n",
      "0               172  121.027535  14.565443       920  ...         0   \n",
      "1               600  121.014101  14.553708      1111  ...         0   \n",
      "2               314  121.056831  14.581404      1671  ...         0   \n",
      "3               873  121.056475  14.585318      1126  ...         0   \n",
      "4               873  121.057508  14.584450      1122  ...         0   \n",
      "\n",
      "   Has Table booking  Has Online delivery  Is delivering now  \\\n",
      "0                  1                    0                  0   \n",
      "1                  1                    0                  0   \n",
      "2                  1                    0                  0   \n",
      "3                  0                    0                  0   \n",
      "4                  1                    0                  0   \n",
      "\n",
      "   Switch to order menu  Price range  Aggregate rating  Rating color  \\\n",
      "0                     0            3               4.8             0   \n",
      "1                     0            3               4.5             0   \n",
      "2                     0            4               4.4             1   \n",
      "3                     0            4               4.9             0   \n",
      "4                     0            4               4.8             0   \n",
      "\n",
      "   Rating text  Votes  \n",
      "0            1    314  \n",
      "1            1    591  \n",
      "2            5    270  \n",
      "3            1    365  \n",
      "4            1    229  \n",
      "\n",
      "[5 rows x 21 columns]\n"
     ]
    }
   ],
   "source": [
    "print(df.head())"
   ]
  },
  {
   "cell_type": "code",
   "execution_count": 15,
   "id": "63e85261",
   "metadata": {
    "execution": {
     "iopub.execute_input": "2025-04-11T13:59:11.546468Z",
     "iopub.status.busy": "2025-04-11T13:59:11.545662Z",
     "iopub.status.idle": "2025-04-11T13:59:11.551682Z",
     "shell.execute_reply": "2025-04-11T13:59:11.550977Z"
    },
    "papermill": {
     "duration": 0.013466,
     "end_time": "2025-04-11T13:59:11.553017",
     "exception": false,
     "start_time": "2025-04-11T13:59:11.539551",
     "status": "completed"
    },
    "tags": []
   },
   "outputs": [],
   "source": [
    "df = df.drop(['Restaurant ID', 'Restaurant Name', 'Country Code', 'City', 'Address',\n",
    "              'Locality', 'Locality Verbose', 'Longitude', 'Latitude', 'Cuisines', 'Currency'], axis=1)"
   ]
  },
  {
   "cell_type": "code",
   "execution_count": 16,
   "id": "3f26559f",
   "metadata": {
    "execution": {
     "iopub.execute_input": "2025-04-11T13:59:11.565298Z",
     "iopub.status.busy": "2025-04-11T13:59:11.564926Z",
     "iopub.status.idle": "2025-04-11T13:59:11.577667Z",
     "shell.execute_reply": "2025-04-11T13:59:11.576820Z"
    },
    "papermill": {
     "duration": 0.02056,
     "end_time": "2025-04-11T13:59:11.579081",
     "exception": false,
     "start_time": "2025-04-11T13:59:11.558521",
     "status": "completed"
    },
    "tags": []
   },
   "outputs": [
    {
     "data": {
      "text/html": [
       "<div>\n",
       "<style scoped>\n",
       "    .dataframe tbody tr th:only-of-type {\n",
       "        vertical-align: middle;\n",
       "    }\n",
       "\n",
       "    .dataframe tbody tr th {\n",
       "        vertical-align: top;\n",
       "    }\n",
       "\n",
       "    .dataframe thead th {\n",
       "        text-align: right;\n",
       "    }\n",
       "</style>\n",
       "<table border=\"1\" class=\"dataframe\">\n",
       "  <thead>\n",
       "    <tr style=\"text-align: right;\">\n",
       "      <th></th>\n",
       "      <th>Average Cost for two</th>\n",
       "      <th>Has Table booking</th>\n",
       "      <th>Has Online delivery</th>\n",
       "      <th>Is delivering now</th>\n",
       "      <th>Switch to order menu</th>\n",
       "      <th>Price range</th>\n",
       "      <th>Aggregate rating</th>\n",
       "      <th>Rating color</th>\n",
       "      <th>Rating text</th>\n",
       "      <th>Votes</th>\n",
       "    </tr>\n",
       "  </thead>\n",
       "  <tbody>\n",
       "    <tr>\n",
       "      <th>0</th>\n",
       "      <td>1100</td>\n",
       "      <td>1</td>\n",
       "      <td>0</td>\n",
       "      <td>0</td>\n",
       "      <td>0</td>\n",
       "      <td>3</td>\n",
       "      <td>4.8</td>\n",
       "      <td>0</td>\n",
       "      <td>1</td>\n",
       "      <td>314</td>\n",
       "    </tr>\n",
       "    <tr>\n",
       "      <th>1</th>\n",
       "      <td>1200</td>\n",
       "      <td>1</td>\n",
       "      <td>0</td>\n",
       "      <td>0</td>\n",
       "      <td>0</td>\n",
       "      <td>3</td>\n",
       "      <td>4.5</td>\n",
       "      <td>0</td>\n",
       "      <td>1</td>\n",
       "      <td>591</td>\n",
       "    </tr>\n",
       "    <tr>\n",
       "      <th>2</th>\n",
       "      <td>4000</td>\n",
       "      <td>1</td>\n",
       "      <td>0</td>\n",
       "      <td>0</td>\n",
       "      <td>0</td>\n",
       "      <td>4</td>\n",
       "      <td>4.4</td>\n",
       "      <td>1</td>\n",
       "      <td>5</td>\n",
       "      <td>270</td>\n",
       "    </tr>\n",
       "    <tr>\n",
       "      <th>3</th>\n",
       "      <td>1500</td>\n",
       "      <td>0</td>\n",
       "      <td>0</td>\n",
       "      <td>0</td>\n",
       "      <td>0</td>\n",
       "      <td>4</td>\n",
       "      <td>4.9</td>\n",
       "      <td>0</td>\n",
       "      <td>1</td>\n",
       "      <td>365</td>\n",
       "    </tr>\n",
       "    <tr>\n",
       "      <th>4</th>\n",
       "      <td>1500</td>\n",
       "      <td>1</td>\n",
       "      <td>0</td>\n",
       "      <td>0</td>\n",
       "      <td>0</td>\n",
       "      <td>4</td>\n",
       "      <td>4.8</td>\n",
       "      <td>0</td>\n",
       "      <td>1</td>\n",
       "      <td>229</td>\n",
       "    </tr>\n",
       "    <tr>\n",
       "      <th>...</th>\n",
       "      <td>...</td>\n",
       "      <td>...</td>\n",
       "      <td>...</td>\n",
       "      <td>...</td>\n",
       "      <td>...</td>\n",
       "      <td>...</td>\n",
       "      <td>...</td>\n",
       "      <td>...</td>\n",
       "      <td>...</td>\n",
       "      <td>...</td>\n",
       "    </tr>\n",
       "    <tr>\n",
       "      <th>9546</th>\n",
       "      <td>80</td>\n",
       "      <td>0</td>\n",
       "      <td>0</td>\n",
       "      <td>0</td>\n",
       "      <td>0</td>\n",
       "      <td>3</td>\n",
       "      <td>4.1</td>\n",
       "      <td>1</td>\n",
       "      <td>5</td>\n",
       "      <td>788</td>\n",
       "    </tr>\n",
       "    <tr>\n",
       "      <th>9547</th>\n",
       "      <td>105</td>\n",
       "      <td>0</td>\n",
       "      <td>0</td>\n",
       "      <td>0</td>\n",
       "      <td>0</td>\n",
       "      <td>3</td>\n",
       "      <td>4.2</td>\n",
       "      <td>1</td>\n",
       "      <td>5</td>\n",
       "      <td>1034</td>\n",
       "    </tr>\n",
       "    <tr>\n",
       "      <th>9548</th>\n",
       "      <td>170</td>\n",
       "      <td>0</td>\n",
       "      <td>0</td>\n",
       "      <td>0</td>\n",
       "      <td>0</td>\n",
       "      <td>4</td>\n",
       "      <td>3.7</td>\n",
       "      <td>5</td>\n",
       "      <td>2</td>\n",
       "      <td>661</td>\n",
       "    </tr>\n",
       "    <tr>\n",
       "      <th>9549</th>\n",
       "      <td>120</td>\n",
       "      <td>0</td>\n",
       "      <td>0</td>\n",
       "      <td>0</td>\n",
       "      <td>0</td>\n",
       "      <td>4</td>\n",
       "      <td>4.0</td>\n",
       "      <td>1</td>\n",
       "      <td>5</td>\n",
       "      <td>901</td>\n",
       "    </tr>\n",
       "    <tr>\n",
       "      <th>9550</th>\n",
       "      <td>55</td>\n",
       "      <td>0</td>\n",
       "      <td>0</td>\n",
       "      <td>0</td>\n",
       "      <td>0</td>\n",
       "      <td>2</td>\n",
       "      <td>4.0</td>\n",
       "      <td>1</td>\n",
       "      <td>5</td>\n",
       "      <td>591</td>\n",
       "    </tr>\n",
       "  </tbody>\n",
       "</table>\n",
       "<p>9542 rows × 10 columns</p>\n",
       "</div>"
      ],
      "text/plain": [
       "      Average Cost for two  Has Table booking  Has Online delivery  \\\n",
       "0                     1100                  1                    0   \n",
       "1                     1200                  1                    0   \n",
       "2                     4000                  1                    0   \n",
       "3                     1500                  0                    0   \n",
       "4                     1500                  1                    0   \n",
       "...                    ...                ...                  ...   \n",
       "9546                    80                  0                    0   \n",
       "9547                   105                  0                    0   \n",
       "9548                   170                  0                    0   \n",
       "9549                   120                  0                    0   \n",
       "9550                    55                  0                    0   \n",
       "\n",
       "      Is delivering now  Switch to order menu  Price range  Aggregate rating  \\\n",
       "0                     0                     0            3               4.8   \n",
       "1                     0                     0            3               4.5   \n",
       "2                     0                     0            4               4.4   \n",
       "3                     0                     0            4               4.9   \n",
       "4                     0                     0            4               4.8   \n",
       "...                 ...                   ...          ...               ...   \n",
       "9546                  0                     0            3               4.1   \n",
       "9547                  0                     0            3               4.2   \n",
       "9548                  0                     0            4               3.7   \n",
       "9549                  0                     0            4               4.0   \n",
       "9550                  0                     0            2               4.0   \n",
       "\n",
       "      Rating color  Rating text  Votes  \n",
       "0                0            1    314  \n",
       "1                0            1    591  \n",
       "2                1            5    270  \n",
       "3                0            1    365  \n",
       "4                0            1    229  \n",
       "...            ...          ...    ...  \n",
       "9546             1            5    788  \n",
       "9547             1            5   1034  \n",
       "9548             5            2    661  \n",
       "9549             1            5    901  \n",
       "9550             1            5    591  \n",
       "\n",
       "[9542 rows x 10 columns]"
      ]
     },
     "execution_count": 16,
     "metadata": {},
     "output_type": "execute_result"
    }
   ],
   "source": [
    "df"
   ]
  },
  {
   "cell_type": "code",
   "execution_count": 17,
   "id": "286d8782",
   "metadata": {
    "execution": {
     "iopub.execute_input": "2025-04-11T13:59:11.592451Z",
     "iopub.status.busy": "2025-04-11T13:59:11.591819Z",
     "iopub.status.idle": "2025-04-11T13:59:11.597628Z",
     "shell.execute_reply": "2025-04-11T13:59:11.596760Z"
    },
    "papermill": {
     "duration": 0.014001,
     "end_time": "2025-04-11T13:59:11.599007",
     "exception": false,
     "start_time": "2025-04-11T13:59:11.585006",
     "status": "completed"
    },
    "tags": []
   },
   "outputs": [],
   "source": [
    "x = df.drop('Aggregate rating', axis=1)\n",
    "y = df['Aggregate rating']"
   ]
  },
  {
   "cell_type": "code",
   "execution_count": 18,
   "id": "f6d74b2e",
   "metadata": {
    "execution": {
     "iopub.execute_input": "2025-04-11T13:59:11.611797Z",
     "iopub.status.busy": "2025-04-11T13:59:11.611211Z",
     "iopub.status.idle": "2025-04-11T13:59:11.621467Z",
     "shell.execute_reply": "2025-04-11T13:59:11.620632Z"
    },
    "papermill": {
     "duration": 0.018306,
     "end_time": "2025-04-11T13:59:11.622902",
     "exception": false,
     "start_time": "2025-04-11T13:59:11.604596",
     "status": "completed"
    },
    "tags": []
   },
   "outputs": [
    {
     "data": {
      "text/plain": [
       "9453    3.8\n",
       "3230    3.9\n",
       "6529    4.2\n",
       "2576    2.8\n",
       "1907    3.0\n",
       "Name: Aggregate rating, dtype: float64"
      ]
     },
     "execution_count": 18,
     "metadata": {},
     "output_type": "execute_result"
    }
   ],
   "source": [
    "# Spliting Data into train and test\n",
    "\n",
    "x_train,x_test,y_train,y_test=train_test_split(x,y,test_size=0.1,random_state=250)\n",
    "x_train.head()\n",
    "y_train.head()"
   ]
  },
  {
   "cell_type": "code",
   "execution_count": 19,
   "id": "ed613d55",
   "metadata": {
    "execution": {
     "iopub.execute_input": "2025-04-11T13:59:11.635291Z",
     "iopub.status.busy": "2025-04-11T13:59:11.634976Z",
     "iopub.status.idle": "2025-04-11T13:59:11.639949Z",
     "shell.execute_reply": "2025-04-11T13:59:11.638999Z"
    },
    "papermill": {
     "duration": 0.012604,
     "end_time": "2025-04-11T13:59:11.641276",
     "exception": false,
     "start_time": "2025-04-11T13:59:11.628672",
     "status": "completed"
    },
    "tags": []
   },
   "outputs": [
    {
     "name": "stdout",
     "output_type": "stream",
     "text": [
      "x_train:  (8587, 9)\n",
      "x_test:  (955, 9)\n",
      "y_train:  (8587,)\n",
      "y_test:  (955,)\n"
     ]
    }
   ],
   "source": [
    "print(\"x_train: \", x_train.shape)\n",
    "print(\"x_test: \",x_test.shape)\n",
    "print(\"y_train: \",y_train.shape)\n",
    "print(\"y_test: \",y_test.shape)"
   ]
  },
  {
   "cell_type": "code",
   "execution_count": 20,
   "id": "19e59155",
   "metadata": {
    "execution": {
     "iopub.execute_input": "2025-04-11T13:59:11.653864Z",
     "iopub.status.busy": "2025-04-11T13:59:11.653542Z",
     "iopub.status.idle": "2025-04-11T13:59:11.657584Z",
     "shell.execute_reply": "2025-04-11T13:59:11.656880Z"
    },
    "papermill": {
     "duration": 0.011873,
     "end_time": "2025-04-11T13:59:11.658866",
     "exception": false,
     "start_time": "2025-04-11T13:59:11.646993",
     "status": "completed"
    },
    "tags": []
   },
   "outputs": [],
   "source": [
    "# Define models\n",
    "models = {\n",
    "    \"Linear Regression\": LinearRegression(),\n",
    "    \"Decision Tree\": DecisionTreeRegressor()\n",
    "}"
   ]
  },
  {
   "cell_type": "code",
   "execution_count": null,
   "id": "a8e04be2",
   "metadata": {
    "papermill": {
     "duration": 0.00553,
     "end_time": "2025-04-11T13:59:11.670535",
     "exception": false,
     "start_time": "2025-04-11T13:59:11.665005",
     "status": "completed"
    },
    "tags": []
   },
   "outputs": [],
   "source": []
  },
  {
   "cell_type": "code",
   "execution_count": 21,
   "id": "181f3951",
   "metadata": {
    "execution": {
     "iopub.execute_input": "2025-04-11T13:59:11.683620Z",
     "iopub.status.busy": "2025-04-11T13:59:11.682732Z",
     "iopub.status.idle": "2025-04-11T13:59:11.753407Z",
     "shell.execute_reply": "2025-04-11T13:59:11.752145Z"
    },
    "papermill": {
     "duration": 0.079028,
     "end_time": "2025-04-11T13:59:11.755134",
     "exception": false,
     "start_time": "2025-04-11T13:59:11.676106",
     "status": "completed"
    },
    "tags": []
   },
   "outputs": [
    {
     "name": "stdout",
     "output_type": "stream",
     "text": [
      "\n",
      "📌 Linear Regression Performance:\n",
      "  Mean Absolute Error: 0.99\n",
      "  Mean Squared Error: 1.43\n",
      "  R2 Score: 0.38\n",
      "\n",
      "📌 Decision Tree Performance:\n",
      "  Mean Absolute Error: 0.14\n",
      "  Mean Squared Error: 0.05\n",
      "  R2 Score: 0.98\n"
     ]
    }
   ],
   "source": [
    "# Train, predict, and evaluate\n",
    "for name, model in models.items():\n",
    "    model.fit(x_train, y_train)\n",
    "    predictions = model.predict(x_test)\n",
    "    \n",
    "    mae = mean_absolute_error(y_test, predictions)\n",
    "    mse = mean_squared_error(y_test, predictions)\n",
    "    r2 = r2_score(y_test, predictions)\n",
    "\n",
    "    print(f\"\\n📌 {name} Performance:\")\n",
    "    print(f\"  Mean Absolute Error: {mae:.2f}\")\n",
    "    print(f\"  Mean Squared Error: {mse:.2f}\")\n",
    "    print(f\"  R2 Score: {r2:.2f}\")"
   ]
  }
 ],
 "metadata": {
  "kaggle": {
   "accelerator": "none",
   "dataSources": [],
   "dockerImageVersionId": 31012,
   "isGpuEnabled": false,
   "isInternetEnabled": true,
   "language": "python",
   "sourceType": "notebook"
  },
  "kernelspec": {
   "display_name": "Python 3",
   "language": "python",
   "name": "python3"
  },
  "language_info": {
   "codemirror_mode": {
    "name": "ipython",
    "version": 3
   },
   "file_extension": ".py",
   "mimetype": "text/x-python",
   "name": "python",
   "nbconvert_exporter": "python",
   "pygments_lexer": "ipython3",
   "version": "3.11.11"
  },
  "papermill": {
   "default_parameters": {},
   "duration": 11.348748,
   "end_time": "2025-04-11T13:59:12.485537",
   "environment_variables": {},
   "exception": null,
   "input_path": "__notebook__.ipynb",
   "output_path": "__notebook__.ipynb",
   "parameters": {},
   "start_time": "2025-04-11T13:59:01.136789",
   "version": "2.6.0"
  }
 },
 "nbformat": 4,
 "nbformat_minor": 5
}
